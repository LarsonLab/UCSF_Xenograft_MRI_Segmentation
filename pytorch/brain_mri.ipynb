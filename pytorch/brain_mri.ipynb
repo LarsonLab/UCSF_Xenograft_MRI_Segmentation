{
 "cells": [
  {
   "cell_type": "code",
   "execution_count": 1,
   "metadata": {},
   "outputs": [
    {
     "name": "stderr",
     "output_type": "stream",
     "text": [
      "/home/erdiaz/.local/lib/python3.8/site-packages/tqdm/auto.py:21: TqdmWarning: IProgress not found. Please update jupyter and ipywidgets. See https://ipywidgets.readthedocs.io/en/stable/user_install.html\n",
      "  from .autonotebook import tqdm as notebook_tqdm\n"
     ]
    }
   ],
   "source": [
    "import numpy as np \n",
    "import pandas as pd\n",
    "import cv2\n",
    "import torch\n",
    "import torchvision\n",
    "from torchvision import utils as vutils\n",
    "from torchvision import transforms\n",
    "from torch import nn\n",
    "from torch.nn import functional as F\n",
    "from torch.utils import data\n",
    "from torch.optim import SGD, Adam\n",
    "from PIL import Image\n",
    "import matplotlib.pyplot as plt\n",
    "import os\n",
    "from statistics import mean"
   ]
  },
  {
   "cell_type": "code",
   "execution_count": 2,
   "metadata": {},
   "outputs": [],
   "source": [
    "'''\n",
    "Extract number of positive vs negative samples (where negative samples have an all-zero mask)\n",
    "Check for files without corresponding mask and vice versa\n",
    "'''\n",
    "root = '/home/henry/Torch_Unet/Brain_mri_segmentation/kaggle_3m'\n",
    "\n",
    "no_mask = 0\n",
    "no_mask_files = []\n",
    "no_file = 0\n",
    "no_files = []\n",
    "num_empty_masks = 0\n",
    "num_nonempty_masks = 0\n",
    "\n",
    "S = 3 # number of pos/neg samples to take\n",
    "empty_mask_samples = []\n",
    "nonempty_mask_samples = []\n",
    "\n",
    "img_dimensions = []\n",
    "msk_dimensions = []\n",
    "\n",
    "n_files = 0\n",
    "for directory in [os.path.join(root,x) for x in os.listdir(root) if os.path.isdir(os.path.join(root, x))]:\n",
    "    for file in os.listdir(directory):\n",
    "        n_files += 1\n",
    "        img_dimensions.append(np.array(cv2.imread(os.path.join(directory, file))).shape)\n",
    "        #count files with no mask\n",
    "        if 'mask' not in file:\n",
    "            #check if mask exists\n",
    "            mask_path = os.path.join(directory, file[:file.find('.tif')]+'_mask.tif')\n",
    "            if not os.path.exists(mask_path):\n",
    "                no_mask += 1\n",
    "                no_mask_files.append(os.path.join(directory, file))\n",
    "        else:\n",
    "            msk_dimensions.append(np.array(cv2.imread(os.path.join(directory, file), cv2.IMREAD_UNCHANGED)).shape)\n",
    "            #count masks with no file\n",
    "            f_path = os.path.join(directory, file[:file.find('mask')-1]+'.tif')\n",
    "            #check if file exists\n",
    "            if not os.path.exists(f_path):\n",
    "                no_file += 1\n",
    "                no_files.append(os.path.join(directory, file))\n",
    "                \n",
    "            #check if mask is empty\n",
    "            j = np.max(cv2.imread(os.path.join(directory, file), cv2.IMREAD_UNCHANGED))\n",
    "            if j > 0:\n",
    "                num_nonempty_masks += 1\n",
    "                if len(nonempty_mask_samples) < S:\n",
    "                    nonempty_mask_samples.append(os.path.join(directory, file))\n",
    "            else:\n",
    "                num_empty_masks += 1\n",
    "                if len(empty_mask_samples) < S:\n",
    "                    empty_mask_samples.append(os.path.join(directory, file))"
   ]
  },
  {
   "cell_type": "code",
   "execution_count": null,
   "metadata": {},
   "outputs": [],
   "source": []
  }
 ],
 "metadata": {
  "kernelspec": {
   "display_name": "Python 3.8.10 64-bit",
   "language": "python",
   "name": "python3"
  },
  "language_info": {
   "codemirror_mode": {
    "name": "ipython",
    "version": 3
   },
   "file_extension": ".py",
   "mimetype": "text/x-python",
   "name": "python",
   "nbconvert_exporter": "python",
   "pygments_lexer": "ipython3",
   "version": "3.8.10"
  },
  "orig_nbformat": 4,
  "vscode": {
   "interpreter": {
    "hash": "31f2aee4e71d21fbe5cf8b01ff0e069b9275f58929596ceb00d14d90e3e16cd6"
   }
  }
 },
 "nbformat": 4,
 "nbformat_minor": 2
}
